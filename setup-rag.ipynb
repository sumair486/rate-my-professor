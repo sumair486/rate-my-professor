{
 "cells": [
  {
   "cell_type": "code",
   "execution_count": 6,
   "metadata": {},
   "outputs": [],
   "source": [
    "from dotenv import load_dotenv\n",
    "load_dotenv()\n",
    "import os\n",
    "from pinecone import Pinecone, ServerlessSpec\n",
    "import json\n",
    "import requests\n",
    "import uuid"
   ]
  },
  {
   "cell_type": "code",
   "execution_count": 7,
   "metadata": {},
   "outputs": [],
   "source": [
    "# NOTE: requires .env instead of .env.local (for JS)\n",
    "# NOTE: pip-chill > requirements.txt to save required packages\n",
    "\n",
    "# Initialize Pinecone\n",
    "pc = Pinecone(api_key=os.getenv(\"PINECONE_API_KEY\"))\n",
    "\n",
    "# Create a Pinecone index\n",
    "pc.create_index(\n",
    "    name=\"rag\",\n",
    "    dimension=768,\n",
    "    metric=\"cosine\",\n",
    "    spec=ServerlessSpec(cloud=\"aws\", region=\"us-east-1\"),\n",
    ")"
   ]
  },
  {
   "cell_type": "code",
   "execution_count": 3,
   "metadata": {},
   "outputs": [
    {
     "name": "stdout",
     "output_type": "stream",
     "text": [
      "Upserted count: 14\n",
      "{'dimension': 768,\n",
      " 'index_fullness': 0.0,\n",
      " 'namespaces': {},\n",
      " 'total_vector_count': 0}\n"
     ]
    }
   ],
   "source": [
    "data = json.load(open(\"reviews.json\"))\n",
    "processed_data = []\n",
    "\n",
    "# https://huggingface.co/blog/getting-started-with-embeddings\n",
    "# Create embeddings for each review\n",
    "# Note: using retry decorator (pip install retry) in query function\n",
    "model_id = \"sentence-transformers/all-mpnet-base-v2\"\n",
    "hf_token = os.getenv(\"HUGGINGFACE_API_TOKEN\")\n",
    "api_url = f\"https://api-inference.huggingface.co/pipeline/feature-extraction/{\n",
    "    model_id}\"\n",
    "headers = {\"Authorization\": f\"Bearer {hf_token}\"}\n",
    "\n",
    "def query(texts):\n",
    "    for review in texts[\"reviews\"]:\n",
    "        response = requests.post(api_url, headers=headers, json={\n",
    "                                 \"inputs\": review[\"review\"], \"options\": {\"wait_for_model\": True}})\n",
    "        embedding = response.json()  # Extract embedding\n",
    "        processed_data.append(\n",
    "            {\n",
    "                \"values\": embedding,  # The embeddings returned by Hugging Face\n",
    "                 # Generate a UUID for each review\n",
    "                \"id\": str(uuid.uuid4()),\n",
    "                \"metadata\": {\n",
    "                    \"professor\": review[\"professor\"], # Professor's name\n",
    "                    \"school\": review[\"school\"], # The school the professor teaches\n",
    "                    # The department the professor belongs to\n",
    "                    \"department\": review[\"department\"],\n",
    "                    \"class\": review[\"class\"],  # The class the review refers to\n",
    "                    # Review difficulty rating\n",
    "                    \"difficulty\": review[\"difficulty\"],\n",
    "                    \"quality\": review[\"quality\"],  # Review quality rating\n",
    "                    # The timestamp of the review\n",
    "                    \"timestamp\": review[\"timestamp\"],\n",
    "                    \"review\": review[\"review\"],  # The review content\n",
    "                }\n",
    "            }\n",
    "        )\n",
    "    return processed_data\n",
    "\n",
    "\n",
    "output = query(data)\n",
    "\n",
    "# Insert the embeddings into the Pinecone index\n",
    "index = pc.Index(\"rag\")\n",
    "upsert_response = index.upsert(\n",
    "    vectors=processed_data,\n",
    "    namespace=\"ns1\",\n",
    ")\n",
    "print(f\"Upserted count: {upsert_response['upserted_count']}\")\n",
    "\n",
    "# Print index statistics\n",
    "print(index.describe_index_stats())"
   ]
  }
 ],
 "metadata": {
  "kernelspec": {
   "display_name": "rag",
   "language": "python",
   "name": "python3"
  },
  "language_info": {
   "codemirror_mode": {
    "name": "ipython",
    "version": 3
   },
   "file_extension": ".py",
   "mimetype": "text/x-python",
   "name": "python",
   "nbconvert_exporter": "python",
   "pygments_lexer": "ipython3",
   "version": "3.12.4"
  }
 },
 "nbformat": 4,
 "nbformat_minor": 2
}
